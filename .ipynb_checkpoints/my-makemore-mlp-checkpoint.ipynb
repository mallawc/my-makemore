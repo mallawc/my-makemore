{
 "cells": [
  {
   "cell_type": "markdown",
   "id": "a9ab7a1f",
   "metadata": {},
   "source": [
    "### MLP（多层感知机模型）\n",
    "\n",
    "在bigram设计中，只考虑了前一个字符作为上下文（context），导致模型预测的效果不好。解决方法是要考虑更多的上下文来预测序列中的下一个字符。但是我们发现情况会变得很复杂，这张表格的大小会迅速增长，实际上它会随着上下文长度的增加呈指数级增长。\n",
    "\n",
    "MLP用于预测序列（sequence）中的下一个字符"
   ]
  },
  {
   "cell_type": "code",
   "execution_count": 41,
   "id": "096d1068",
   "metadata": {},
   "outputs": [],
   "source": [
    "import torch\n",
    "import torch.nn.functional as F\n",
    "import matplotlib.pyplot as plt # for making figures\n",
    "%matplotlib inline"
   ]
  },
  {
   "cell_type": "code",
   "execution_count": 42,
   "id": "705f5e0b",
   "metadata": {},
   "outputs": [
    {
     "data": {
      "text/plain": [
       "['emma', 'olivia', 'ava', 'isabella', 'sophia', 'charlotte', 'mia', 'amelia']"
      ]
     },
     "execution_count": 42,
     "metadata": {},
     "output_type": "execute_result"
    }
   ],
   "source": [
    "# read in all the words\n",
    "words = open(\"names.txt\", 'r').read().splitlines()\n",
    "words[:8]"
   ]
  },
  {
   "cell_type": "code",
   "execution_count": 43,
   "id": "a2aeaf83",
   "metadata": {},
   "outputs": [
    {
     "data": {
      "text/plain": [
       "32033"
      ]
     },
     "execution_count": 43,
     "metadata": {},
     "output_type": "execute_result"
    }
   ],
   "source": [
    "len(words)"
   ]
  },
  {
   "cell_type": "code",
   "execution_count": 44,
   "id": "54e97e4a",
   "metadata": {},
   "outputs": [
    {
     "name": "stdout",
     "output_type": "stream",
     "text": [
      "{1: 'a', 2: 'b', 3: 'c', 4: 'd', 5: 'e', 6: 'f', 7: 'g', 8: 'h', 9: 'i', 10: 'j', 11: 'k', 12: 'l', 13: 'm', 14: 'n', 15: 'o', 16: 'p', 17: 'q', 18: 'r', 19: 's', 20: 't', 21: 'u', 22: 'v', 23: 'w', 24: 'x', 25: 'y', 26: 'z', 0: '.'}\n"
     ]
    }
   ],
   "source": [
    "# build the vocabulary of characters and mappings to/from integers\n",
    "chars = sorted(list(set(''.join(words))))\n",
    "stoi = {s:i+1 for i,s in enumerate(chars)}\n",
    "stoi['.'] = 0\n",
    "itos = {i:s for s,i in stoi.items()}\n",
    "print(itos)"
   ]
  },
  {
   "cell_type": "code",
   "execution_count": 114,
   "id": "16ecaa2f",
   "metadata": {},
   "outputs": [
    {
     "name": "stdout",
     "output_type": "stream",
     "text": [
      "torch.Size([182437, 3]) torch.Size([182437])\n",
      "torch.Size([22781, 3]) torch.Size([22781])\n",
      "torch.Size([22928, 3]) torch.Size([22928])\n"
     ]
    }
   ],
   "source": [
    "# build the dataset\n",
    "\n",
    "def build_dataset(words):\n",
    "    block_size = 3 # context length: how many characters do we take to predict the next one?\n",
    "    X, Y = [], []\n",
    "    #for w in words[:5]:\n",
    "    for w in words:\n",
    "\n",
    "        #print(w)\n",
    "        context = [0] * block_size # initialize context block 0->'.'\n",
    "        for ch in w + '.':\n",
    "            ix = stoi[ch]\n",
    "            X.append(context)\n",
    "            Y.append(ix)\n",
    "            #print(''.join(itos[i] for i in context), '--->', itos[ix])\n",
    "            context = context[1:] + [ix] # crop and append\n",
    "\n",
    "    X = torch.tensor(X)\n",
    "    Y = torch.tensor(Y)\n",
    "    print(X.shape, Y.shape)\n",
    "    return X, Y\n",
    "\n",
    "import random\n",
    "random.seed(42)\n",
    "random.shuffle(words)\n",
    "# traning split, dev/validation split, test split : 80%, 10%, 10%\n",
    "n1 = int(0.8*len(words)) # 80% of the words\n",
    "n2 = int(0.9*len(words)) # 90% of the words\n",
    "\n",
    "# training-split\n",
    "Xtr, Ytr = build_dataset(words[:n1])\n",
    "# dev/validation split\n",
    "Xdev, Ydev = build_dataset(words[n1:n2])\n",
    "# test-split\n",
    "Xte, Yte = build_dataset(words[n2:])"
   ]
  },
  {
   "cell_type": "markdown",
   "id": "aa4c8f68",
   "metadata": {},
   "source": [
    "X是输入示例（context block），Y是标签（label），即紧接着上下文窗口的下一个字符"
   ]
  },
  {
   "cell_type": "markdown",
   "id": "d918dad6",
   "metadata": {},
   "source": [
    "##### 构建特征矩阵C，即词嵌入查找表（embedding lookup table C）\n",
    "\n",
    "table C有27个可能的字符，我们将其嵌入到一个较低维度的空间中（这里是二维）"
   ]
  },
  {
   "cell_type": "code",
   "execution_count": null,
   "id": "16e92585",
   "metadata": {
    "collapsed": true
   },
   "outputs": [],
   "source": [
    "C = torch.randn((27, 2))"
   ]
  },
  {
   "cell_type": "code",
   "execution_count": null,
   "id": "215178b1",
   "metadata": {
    "collapsed": true
   },
   "outputs": [],
   "source": [
    "emb = C[X]\n",
    "emb.shape"
   ]
  },
  {
   "cell_type": "markdown",
   "id": "3c49e38b",
   "metadata": {},
   "source": [
    "这里的`C[X]`用到了**张量的索引操作**：使用张量`X`作为索引去访问张量`C`，其行为取决于索引张量`X`的形状和数据类型。`C[X]`中，`X`充当**行索引**（32x3=96个范围在`[0,26]`的整数索引值，故可用于`C`的行索引），保留`C`的列维度，最终可得出`C[X]`形状为`[32, 3, 2]`"
   ]
  },
  {
   "cell_type": "code",
   "execution_count": null,
   "id": "0898c717",
   "metadata": {
    "collapsed": true
   },
   "outputs": [],
   "source": [
    "# 隐藏层：该层的输入数量为3x2，因为有三个block，每个block有两个维度的嵌入\n",
    "\n",
    "W1 = torch.randn((6, 100)) # hyperparameter是自定义的\n",
    "b1 = torch.randn(100)"
   ]
  },
  {
   "cell_type": "markdown",
   "id": "b90c3f1a",
   "metadata": {},
   "source": [
    "为了避免硬编码数值32，这里使用`emb.shape[0]`或者直接`-1`让pytorch自己推理出32。以下都是等价的写法：\n",
    "\n",
    "```python\n",
    "h = torch.tanh(emb.view(32, 6) @ W1 + b1)\n",
    "h = torch.tanh(emb.view(emb.shape[0], 6) @ W1 + b1)\n",
    "h = torch.tanh(emb.view(-1, 6) @ W1 + b1)\n",
    "```"
   ]
  },
  {
   "cell_type": "markdown",
   "id": "0b4f64fb",
   "metadata": {},
   "source": [
    "======================================"
   ]
  },
  {
   "cell_type": "code",
   "execution_count": null,
   "id": "7fdc4904",
   "metadata": {
    "collapsed": true
   },
   "outputs": [],
   "source": [
    "emb @ W1 + b1"
   ]
  },
  {
   "cell_type": "code",
   "execution_count": null,
   "id": "bafe64fe",
   "metadata": {
    "collapsed": true
   },
   "outputs": [],
   "source": [
    "# 举例，将3个词嵌入通过“连接”压缩成了32x6的形状\n",
    "torch.cat([emb[:, 0, :], emb[:, 1, :], emb[:, 2, :]], 1).shape "
   ]
  },
  {
   "cell_type": "code",
   "execution_count": null,
   "id": "1f81b1ae",
   "metadata": {
    "collapsed": true
   },
   "outputs": [],
   "source": [
    "# 将emb张量移除1维度，得到一组序列后通过“连接”压缩成了32x6\n",
    "torch.cat(torch.unbind(emb, 1), 1).shape"
   ]
  },
  {
   "cell_type": "code",
   "execution_count": null,
   "id": "7bcc2cba",
   "metadata": {
    "collapsed": true
   },
   "outputs": [],
   "source": [
    "emb.shape"
   ]
  },
  {
   "cell_type": "code",
   "execution_count": null,
   "id": "907530ed",
   "metadata": {
    "collapsed": true
   },
   "outputs": [],
   "source": [
    "emb.view(32, 6) == torch.cat(torch.unbind(emb, 1), 1)"
   ]
  },
  {
   "cell_type": "markdown",
   "id": "a3f1ed9f",
   "metadata": {},
   "source": [
    "======================================"
   ]
  },
  {
   "cell_type": "markdown",
   "id": "e609141f",
   "metadata": {},
   "source": [
    "为了避免硬编码数值32，这里使用`emb.shape[0]`或者直接`-1`让pytorch自己推理出32。以下都是等价的写法：\n",
    "\n",
    "```python\n",
    "h = torch.tanh(emb.view(32, 6) @ W1 + b1)\n",
    "h = torch.tanh(emb.view(emb.shape[0], 6) @ W1 + b1)\n",
    "h = torch.tanh(emb.view(-1, 6) @ W1 + b1)\n",
    "```\n",
    "另外还需注意这里的`+ b1`用到了**广播机制**，因为矩阵`emb.view(-1, 6) @ W1`的形状是`[32, 100]`，`b1`的形状是`[100]`，两者不能直接相乘。在广播下，`b1`的形状拓展为`[1, 100]`，此时相乘，每个`b1`的偏置向量都会被加到这个矩阵的所有行上"
   ]
  },
  {
   "cell_type": "code",
   "execution_count": null,
   "id": "dce7210f",
   "metadata": {
    "collapsed": true
   },
   "outputs": [],
   "source": [
    "# hidden layer of activations\n",
    "\n",
    "h = torch.tanh(emb.view(-1, 6) @ W1 + b1)"
   ]
  },
  {
   "cell_type": "code",
   "execution_count": null,
   "id": "9d8c1e44",
   "metadata": {
    "collapsed": true
   },
   "outputs": [],
   "source": [
    "h"
   ]
  },
  {
   "cell_type": "code",
   "execution_count": null,
   "id": "30fdb4b2",
   "metadata": {
    "collapsed": true
   },
   "outputs": [],
   "source": [
    "h.shape"
   ]
  },
  {
   "cell_type": "code",
   "execution_count": null,
   "id": "57453874",
   "metadata": {
    "collapsed": true
   },
   "outputs": [],
   "source": [
    "# output layer: \n",
    "\n",
    "W2 = torch.randn((100, 27))\n",
    "b2 = torch.randn(27)"
   ]
  },
  {
   "cell_type": "code",
   "execution_count": null,
   "id": "6d22f5fd",
   "metadata": {
    "collapsed": true
   },
   "outputs": [],
   "source": [
    "logits = h @ W2 + b2"
   ]
  },
  {
   "cell_type": "code",
   "execution_count": null,
   "id": "23fe6184",
   "metadata": {
    "collapsed": true
   },
   "outputs": [],
   "source": [
    "counts = logits.exp()"
   ]
  },
  {
   "cell_type": "code",
   "execution_count": null,
   "id": "847846b4",
   "metadata": {
    "collapsed": true
   },
   "outputs": [],
   "source": [
    "prob = counts / counts.sum(1, keepdim=True)"
   ]
  },
  {
   "cell_type": "code",
   "execution_count": null,
   "id": "0472ef01",
   "metadata": {
    "collapsed": true
   },
   "outputs": [],
   "source": [
    "prob.shape"
   ]
  },
  {
   "cell_type": "code",
   "execution_count": null,
   "id": "32fdc7c8",
   "metadata": {
    "collapsed": true
   },
   "outputs": [],
   "source": [
    "loss = -prob[torch.arange(32), Y].log().mean()\n",
    "loss"
   ]
  },
  {
   "cell_type": "code",
   "execution_count": null,
   "id": "bbb9b821",
   "metadata": {
    "collapsed": true
   },
   "outputs": [],
   "source": [
    "# --------------------- now made repectable :) ----------------------"
   ]
  },
  {
   "cell_type": "code",
   "execution_count": 116,
   "id": "43d001b2",
   "metadata": {},
   "outputs": [
    {
     "data": {
      "text/plain": [
       "(torch.Size([182437, 3]), torch.Size([182437]))"
      ]
     },
     "execution_count": 116,
     "metadata": {},
     "output_type": "execute_result"
    }
   ],
   "source": [
    "Xtr.shape, Ytr.shape # trainig dataset"
   ]
  },
  {
   "cell_type": "code",
   "execution_count": 128,
   "id": "6524fc01",
   "metadata": {},
   "outputs": [],
   "source": [
    "g = torch.Generator().manual_seed(2147483647)\n",
    "C = torch.randn((27, 2), generator=g)\n",
    "# hidden layer 's weights and bias\n",
    "W1 = torch.randn((6, 100), generator=g)\n",
    "b1 = torch.randn(100, generator=g)\n",
    "# output layer 's weights and bias\n",
    "W2 = torch.randn((100, 27), generator=g)\n",
    "b2 = torch.randn(27, generator=g)\n",
    "parameters = [C, W1, b1, W2, b2]"
   ]
  },
  {
   "cell_type": "code",
   "execution_count": 123,
   "id": "a533c55b",
   "metadata": {},
   "outputs": [
    {
     "data": {
      "text/plain": [
       "3481"
      ]
     },
     "execution_count": 123,
     "metadata": {},
     "output_type": "execute_result"
    }
   ],
   "source": [
    "sum(p.nelement() for p in parameters) # number of parameters in total"
   ]
  },
  {
   "cell_type": "code",
   "execution_count": 129,
   "id": "c7cf0711",
   "metadata": {},
   "outputs": [],
   "source": [
    "for p in parameters:\n",
    "    p.requires_grad = True"
   ]
  },
  {
   "cell_type": "code",
   "execution_count": 130,
   "id": "1a8c29fc",
   "metadata": {},
   "outputs": [],
   "source": [
    "lre = torch.linspace(-3, 0, 1000) # learning rate exponent\n",
    "lrs = 10**lre # actual Learning Rates we wanna search for"
   ]
  },
  {
   "cell_type": "code",
   "execution_count": 131,
   "id": "c7c6d8b5",
   "metadata": {},
   "outputs": [
    {
     "name": "stdout",
     "output_type": "stream",
     "text": [
      "2.2933099269866943\n"
     ]
    }
   ],
   "source": [
    "#lri = []\n",
    "#lossi = []\n",
    "\n",
    "for i in range(30000):\n",
    "    \n",
    "    # minibatch construct\n",
    "    ix = torch.randint(0, Xtr.shape[0], (32,))\n",
    "    \n",
    "    # forward pass\n",
    "    emb = C[Xtr[ix]] # (32, 3, 2)\n",
    "    h = torch.tanh(emb.view(-1, 6) @ W1 + b1) # (32, 100)\n",
    "    logits = h @ W2 + b2 # (32, 27)\n",
    "    # counts = logits.exp()\n",
    "    # prob = counts / counts.sum(1, keepdims=True)\n",
    "    # loss = -prob[torch.arange(32), Y].log().mean()\n",
    "    loss = F.cross_entropy(logits, Ytr[ix])\n",
    "    #print(loss.item())\n",
    "    \n",
    "    # backward pass\n",
    "    for p in parameters:\n",
    "        p.grad = None\n",
    "    loss.backward()\n",
    "    \n",
    "    # update\n",
    "    #lr = lrs[i]\n",
    "    lr = 0.1\n",
    "    for p in parameters:\n",
    "        p.data += -lr * p.grad\n",
    "        \n",
    "    # track stats\n",
    "#     lri.append(lre[i])\n",
    "#     lossi.append(loss.item())\n",
    "\n",
    "print(loss.item()) # Attention! this output is only the loss for that mini batch!"
   ]
  },
  {
   "cell_type": "code",
   "execution_count": 133,
   "id": "b3a0d570",
   "metadata": {},
   "outputs": [
    {
     "data": {
      "text/plain": [
       "tensor(2.4045, grad_fn=<NllLossBackward0>)"
      ]
     },
     "execution_count": 133,
     "metadata": {},
     "output_type": "execute_result"
    }
   ],
   "source": [
    "emb = C[Xtr] # (32, 3, 2)\n",
    "h = torch.tanh(emb.view(-1, 6) @ W1 + b1) # (32, 100)\n",
    "logits = h @ W2 + b2 # (32, 27)\n",
    "loss = F.cross_entropy(logits, Ytr)\n",
    "loss"
   ]
  },
  {
   "cell_type": "code",
   "execution_count": 132,
   "id": "9b36e6bb",
   "metadata": {},
   "outputs": [
    {
     "data": {
      "text/plain": [
       "tensor(2.4243, grad_fn=<NllLossBackward0>)"
      ]
     },
     "execution_count": 132,
     "metadata": {},
     "output_type": "execute_result"
    }
   ],
   "source": [
    "# 实际评估所有X和Y的损失（不是小批次的）：\n",
    "emb = C[Xdev] # (32, 3, 2)\n",
    "h = torch.tanh(emb.view(-1, 6) @ W1 + b1) # (32, 100)\n",
    "logits = h @ W2 + b2 # (32, 27)\n",
    "loss = F.cross_entropy(logits, Ydev)\n",
    "loss"
   ]
  },
  {
   "cell_type": "code",
   "execution_count": 68,
   "id": "d758909a",
   "metadata": {},
   "outputs": [
    {
     "data": {
      "text/plain": [
       "[<matplotlib.lines.Line2D at 0x28b939cecb0>]"
      ]
     },
     "execution_count": 68,
     "metadata": {},
     "output_type": "execute_result"
    },
    {
     "data": {
      "image/png": "[encoded data removed]",
      "text/plain": [
       "<Figure size 640x480 with 1 Axes>"
      ]
     },
     "metadata": {},
     "output_type": "display_data"
    }
   ],
   "source": [
    "plt.plot(lri, lossi)"
   ]
  },
  {
   "cell_type": "code",
   "execution_count": null,
   "id": "34da3a94",
   "metadata": {},
   "outputs": [],
   "source": [
    "# traning split, dev/validation split, test split\n",
    "# 80%, 10%, 10%"
   ]
  }
 ],
 "metadata": {
  "kernelspec": {
   "display_name": "Python 3 (ipykernel)",
   "language": "python",
   "name": "python3"
  },
  "language_info": {
   "codemirror_mode": {
    "name": "ipython",
    "version": 3
   },
   "file_extension": ".py",
   "mimetype": "text/x-python",
   "name": "python",
   "nbconvert_exporter": "python",
   "pygments_lexer": "ipython3",
   "version": "3.10.9"
  }
 },
 "nbformat": 4,
 "nbformat_minor": 5
}
